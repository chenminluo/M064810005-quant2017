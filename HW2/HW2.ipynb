{
 "cells": [
  {
   "cell_type": "code",
   "execution_count": 1,
   "metadata": {
    "collapsed": true
   },
   "outputs": [],
   "source": [
    "#載入模組\n",
    "import os"
   ]
  },
  {
   "cell_type": "code",
   "execution_count": 5,
   "metadata": {},
   "outputs": [
    {
     "name": "stdout",
     "output_type": "stream",
     "text": [
      "Hello World!\n",
      "this is alice's greeting.\n",
      "this is bob's greeting.\n",
      "5 plus 10 is equal to 15\n",
      "foo\n",
      "Current working directory isC:\\Users\\chenminluo\\Downloads\\QF20170921-master\\QF20170921-master\\01_basics\\HW01\n",
      "==========\n",
      "i like to eatapple\n",
      "i like to eatoranges\n",
      "i like to eatcats\n",
      "count to ten:\n",
      "1\n",
      "2\n",
      "3\n",
      "4\n",
      "5\n",
      "6\n",
      "7\n",
      "8\n",
      "9\n",
      "10\n"
     ]
    }
   ],
   "source": [
    "#把下面的東西放到main裡\n",
    "def main():\n",
    "    #打印出Hello World!字樣\n",
    "    print(\"Hello World!\")\n",
    "    #打印出this is alice's greeting.字樣\n",
    "    print(\"this is alice's greeting.\")\n",
    "    #打印出this is bob\\'s greeting.字樣\n",
    "    print('this is bob\\'s greeting.') #發現\"\"與''是一樣的 \n",
    "    foo(5,10) #給數字到foo函數\n",
    "    print ('Current working directory is' + os.getcwd()) #印出Current working directory is字串+取工作目錄\n",
    "    print('=' *10 ) #打印 = 10次\n",
    "    \n",
    "     #定義變數的值\n",
    "    counter =0\n",
    "    counter +=1\n",
    "    \n",
    "    food = [\"apple\",\"oranges\",\"cats\"] #把apple,oranges,cats放入list(可以有不同形式)\n",
    "    \n",
    "    for i in food: #food裡面的迴圈\n",
    "        print(\"i like to eat\"+i) \n",
    "        \n",
    "    print('count to ten:') #打印出count to ten:\n",
    "    \n",
    "    for i in range(10):\n",
    "        \n",
    "        print (i+1) #因為預設0開始所以+1\n",
    "\n",
    "        \n",
    "def foo(c, d): #定義函數\n",
    "    res=(c+d)  #給定變數要做甚麼計算\n",
    "    print ('{} plus {} is equal to {}'.format(c,d,res)) #給定輸出形式(c plus d is equal to res)\n",
    "    if res < 50:\n",
    "        print('foo')    #如果計算結果小於50就打印出foo\n",
    "    elif res>=50  and (c==42):\n",
    "        print ('bar') #若計算結果大於等於50和變數c=42同時成立則印出bar\n",
    "    else:\n",
    "        print ('moo') #若都不是以上結果印出moo\n",
    "    return res \n",
    "if __name__=='__main__': #此CODE是被執行還是拿來執行\n",
    "    main()"
   ]
  }
 ],
 "metadata": {
  "kernelspec": {
   "display_name": "Python 3",
   "language": "python",
   "name": "python3"
  },
  "language_info": {
   "codemirror_mode": {
    "name": "ipython",
    "version": 3
   },
   "file_extension": ".py",
   "mimetype": "text/x-python",
   "name": "python",
   "nbconvert_exporter": "python",
   "pygments_lexer": "ipython3",
   "version": "3.6.2"
  }
 },
 "nbformat": 4,
 "nbformat_minor": 2
}
